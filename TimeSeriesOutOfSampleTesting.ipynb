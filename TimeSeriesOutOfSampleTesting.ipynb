{
 "cells": [
  {
   "cell_type": "markdown",
   "metadata": {},
   "source": [
    "<font color=blue>_Please note that this project and your deliverable are confidential and the property of King Street Capital, L.P.  Your deliverable must not contain or be based on any non-public or proprietary information, and must be completed on your own personal technology systems, on your own time, and without using any of your employers’ resources._</font>\n",
    "\n",
    "# Time-Series Out of Sample Testing\n",
    "Out of sample testing of time-series data needs to be handled carefully.  For this task, you will create a class for splitting a time-series dataset into training and testing subsets, and then implement an out of sample testing method that uses your custom splitter. There are three questions in total to this task."
   ]
  },
  {
   "cell_type": "markdown",
   "metadata": {},
   "source": [
    "## Question 1\n",
    "In the block below, briefly describe why it may not be a good idea (what biases might we encounter?) to use standard k-fold cross-validation to perform out-of-sample testing of time series data:"
   ]
  },
  {
   "cell_type": "markdown",
   "metadata": {
    "collapsed": true
   },
   "source": [
    "# Answer\n",
    "The use standard k-fold cross-validation to perform out-of-sample testing data do not work in the case of time series data. This is because they ignore the temporal components inherent in the problem.\n",
    "\n",
    "Standard k-fold cross-validation uses random sampling of data and splitting it into training and test set. However, in case of time-series data, the order of samples is important and data will lose the chronological essance if we randomize it. \n",
    "\n",
    "Moreover, we might end up using some data points from future to train the model and then using the trained model to predict the past data points. This may give you higher accuracy but that is inaccurate.\n",
    "\n",
    "This is why we cannot use standard k-fold cross-validation method in case of time series data"
   ]
  },
  {
   "cell_type": "code",
   "execution_count": 5,
   "metadata": {},
   "outputs": [
    {
     "data": {
      "text/html": [
       "<div>\n",
       "<style scoped>\n",
       "    .dataframe tbody tr th:only-of-type {\n",
       "        vertical-align: middle;\n",
       "    }\n",
       "\n",
       "    .dataframe tbody tr th {\n",
       "        vertical-align: top;\n",
       "    }\n",
       "\n",
       "    .dataframe thead th {\n",
       "        text-align: right;\n",
       "    }\n",
       "</style>\n",
       "<table border=\"1\" class=\"dataframe\">\n",
       "  <thead>\n",
       "    <tr style=\"text-align: right;\">\n",
       "      <th></th>\n",
       "      <th>x1</th>\n",
       "      <th>x2</th>\n",
       "      <th>AsOfDate</th>\n",
       "      <th>y</th>\n",
       "    </tr>\n",
       "  </thead>\n",
       "  <tbody>\n",
       "    <tr>\n",
       "      <th>0</th>\n",
       "      <td>0.132665</td>\n",
       "      <td>0.690309</td>\n",
       "      <td>2017-01-02</td>\n",
       "      <td>2.103012</td>\n",
       "    </tr>\n",
       "    <tr>\n",
       "      <th>1</th>\n",
       "      <td>0.074146</td>\n",
       "      <td>0.604437</td>\n",
       "      <td>2017-01-05</td>\n",
       "      <td>4.900103</td>\n",
       "    </tr>\n",
       "    <tr>\n",
       "      <th>2</th>\n",
       "      <td>0.790949</td>\n",
       "      <td>0.458124</td>\n",
       "      <td>2017-01-06</td>\n",
       "      <td>7.187395</td>\n",
       "    </tr>\n",
       "    <tr>\n",
       "      <th>3</th>\n",
       "      <td>0.234834</td>\n",
       "      <td>0.837308</td>\n",
       "      <td>2017-01-05</td>\n",
       "      <td>5.454350</td>\n",
       "    </tr>\n",
       "    <tr>\n",
       "      <th>4</th>\n",
       "      <td>0.282088</td>\n",
       "      <td>0.293182</td>\n",
       "      <td>2017-01-07</td>\n",
       "      <td>7.004733</td>\n",
       "    </tr>\n",
       "  </tbody>\n",
       "</table>\n",
       "</div>"
      ],
      "text/plain": [
       "         x1        x2    AsOfDate         y\n",
       "0  0.132665  0.690309  2017-01-02  2.103012\n",
       "1  0.074146  0.604437  2017-01-05  4.900103\n",
       "2  0.790949  0.458124  2017-01-06  7.187395\n",
       "3  0.234834  0.837308  2017-01-05  5.454350\n",
       "4  0.282088  0.293182  2017-01-07  7.004733"
      ]
     },
     "execution_count": 5,
     "metadata": {},
     "output_type": "execute_result"
    }
   ],
   "source": [
    "# Execute this block to create some random non-stationary data for the remainder of this task\n",
    "import numpy as np\n",
    "import pandas as pd\n",
    "import datetime as dt\n",
    "import random as rd\n",
    "from dateutil import parser\n",
    "import matplotlib.pyplot as plt\n",
    "\n",
    "def random_date(start, end):\n",
    "    return (start + dt.timedelta(\n",
    "        seconds=rd.randint(0, int((end - start).total_seconds())),\n",
    "    )).date()\n",
    " \n",
    "df_random_data = pd.DataFrame(np.random.uniform(0,1,size=(100,2)), columns=['x1','x2'])\n",
    "min_date = parser.parse('1/1/2017')\n",
    "max_date = parser.parse('1/11/2017')\n",
    "df_random_data['AsOfDate'] = [random_date(min_date, max_date) for i in range(100)]\n",
    "df_random_data['y'] = 2.0 * df_random_data.x1 + df_random_data.x2 + np.random.normal(0,0.2) + (df_random_data.AsOfDate - min_date.date()).dt.days\n",
    "\n",
    "df_random_data.head()"
   ]
  },
  {
   "cell_type": "markdown",
   "metadata": {},
   "source": [
    "## Question 2 - ChronologicalSplit\n",
    "We will create a ChronologicalSplit class for splitting time series data into training and test sets.  Implement the split() method of the ChronologicalSplit class below.  After implementing it, you may use the next two blocks to visualize and validate your solution."
   ]
  },
  {
   "cell_type": "code",
   "execution_count": 6,
   "metadata": {},
   "outputs": [],
   "source": [
    "class ChronologicalSplit:\n",
    "    \"\"\"Time Series out of sample splitter.\n",
    "    Parameters\n",
    "    ----------\n",
    "    n_splits : int, default=3\n",
    "        Number of splits. Must be at least 1.\n",
    "    \"\"\"        \n",
    "    \n",
    "    def __init__(self,  n_splits=3):\n",
    "        self.n_splits = n_splits\n",
    "        \n",
    "    def split(self, dates):\n",
    "        \"\"\"Generate indices to split data into training and test set.\n",
    "        Parameters\n",
    "        ----------\n",
    "        dates : array-like, of length n_samples\n",
    "            The dates of the dataset, where n_samples is the number of samples\n",
    "            Assume the dates will be of type datetime.date.\n",
    "        Returns\n",
    "        -------\n",
    "        train : ndarray\n",
    "            The training set indices for that split.\n",
    "        test : ndarray\n",
    "            The testing set indices for that split.\n",
    "        NOTES\n",
    "        -----\n",
    "        The following implementation is *incorrect*.  It's provided for illustration purposes only\n",
    "        \"\"\"       \n",
    "        #creating a dataframe sorted by date and preserving its original index\n",
    "        sorted_Dates = pd.DataFrame()\n",
    "        sorted_Dates['Original_index'] = [i for i in range(len(dates))]\n",
    "        sorted_Dates['AsOfDate'] = [date for date in (dates)]\n",
    "        sorted_Dates['AsOfDate'] = pd.to_datetime(sorted_Dates.AsOfDate)\n",
    "        sorted_Dates = sorted_Dates.sort_values(by=['AsOfDate'])\n",
    "        \n",
    "        #creating a list of unique dates in the dates array\n",
    "        dates_range = np.sort(sorted_Dates.AsOfDate.unique())\n",
    "        \n",
    "        n_samples = len(dates_range)\n",
    "        indices = np.arange(n_samples)\n",
    "        indices_dates = np.arange(len(dates))\n",
    "        \n",
    "        #Calculating the number of dates to be included in train and test sets for each fold\n",
    "        train_sizes = []\n",
    "        test_sizes = []\n",
    "        for i in range(1, self.n_splits+1):\n",
    "            train_size = int(i * n_samples / (self.n_splits+1) )\n",
    "            train_sizes.append(train_size)\n",
    "            test_size = int(n_samples / (self.n_splits+1))\n",
    "            test_sizes.append(test_size)\n",
    "        num_folds = 0\n",
    "        for train_size in range(len(train_sizes)):\n",
    "            #finding the end date for training set\n",
    "            try:\n",
    "                last_training_date = dates_range[train_sizes[train_size]]    #last date in training set\n",
    "            except:\n",
    "                last_training_date = dates_range[-1]    #last date in training set\n",
    "\n",
    "            #Finding the index of last occurence of end date in sorted_Dates samples\n",
    "            last_date_indices = np.where(np.array(sorted_Dates.iloc[:, 1].values)  == last_training_date)[0]\n",
    "            last_training_date_index = last_date_indices[-1]\n",
    "\n",
    "            #get the original indices from sorted_Dates for the samples included in test set\n",
    "            training_indices = []\n",
    "            for index in  indices_dates[0 : last_training_date_index+1]:\n",
    "                training_indices.append(sorted_Dates.iloc[index, 0])\n",
    "                \n",
    "            #finding the end date for test set\n",
    "            test_end =  train_sizes[train_size] + test_sizes[train_size]\n",
    "            try:\n",
    "                last_testing_date = dates_range[test_end]\n",
    "            except:\n",
    "                last_testing_date = dates_range[-1]\n",
    "                \n",
    "            #Finding the index of last occurence of end date in sorted_Dates samples\n",
    "            last_test_date_indices = np.where(np.array(sorted_Dates.iloc[:, 1].values)  == last_testing_date)[0]\n",
    "            last_testing_date_index = last_test_date_indices[-1]\n",
    "            \n",
    "            #get the original indices from sorted_Dates for the samples included in test set\n",
    "            testing_indices = []\n",
    "            for index in  indices_dates[last_training_date_index+1:last_testing_date_index +1]:\n",
    "                testing_indices.append(sorted_Dates.iloc[index, 0])\n",
    "            \n",
    "            yield (training_indices, testing_indices)\n",
    "            num_folds = num_folds + 1\n",
    "            if num_folds == self.n_splits:\n",
    "                break"
   ]
  },
  {
   "cell_type": "code",
   "execution_count": 7,
   "metadata": {},
   "outputs": [
    {
     "data": {
      "image/png": "[encoded data removed]",
      "text/plain": [
       "<Figure size 432x288 with 1 Axes>"
      ]
     },
     "metadata": {},
     "output_type": "display_data"
    }
   ],
   "source": [
    "# Perform the split and visualize\n",
    "num_splits = 3\n",
    "fold_dates = []\n",
    "splitter = ChronologicalSplit(n_splits=num_splits)\n",
    "splits = 0\n",
    "for train_index, test_index in splitter.split(df_random_data['AsOfDate']):\n",
    "    X_train, X_test = df_random_data.iloc[train_index][['AsOfDate']], df_random_data.iloc[test_index][['AsOfDate']]    \n",
    "    training_dates = X_train.AsOfDate.unique()\n",
    "    testing_dates = X_test.AsOfDate.unique()\n",
    "    fold_dates.append([splits, training_dates, testing_dates])    \n",
    "    splits = splits+1\n",
    "    \n",
    "# Visualize the splits.  Red are the training points, blue are the testing points\n",
    "%matplotlib inline\n",
    "import matplotlib.pyplot as plt\n",
    "\n",
    "df_folds = pd.DataFrame(columns=['Fold','Date','Color'])\n",
    "for fold in fold_dates:\n",
    "    for d in fold[1]:\n",
    "        df_folds.loc[len(df_folds)]=[fold[0]+1, d, 'r']\n",
    "    for d in fold[2]:\n",
    "        df_folds.loc[len(df_folds)]=[fold[0]+1, d, 'b']        \n",
    "\n",
    "dates = [pd.to_datetime(d) for d in df_folds['Date']]\n",
    "ax = plt.scatter(dates, df_folds['Fold'],c=df_folds['Color'], alpha=0.5)\n",
    "plt.xlabel('Date')\n",
    "plt.ylabel('Fold')\n",
    "plt.xticks(rotation=45)\n",
    "plt.ylim(0,len(fold_dates)+1.0)\n",
    "plt.xlim(min(dates), max(dates))\n",
    "plt.gca().invert_yaxis()"
   ]
  },
  {
   "cell_type": "code",
   "execution_count": 8,
   "metadata": {},
   "outputs": [],
   "source": [
    "# Validate the splitter class\n",
    "splits = 0\n",
    "num_training_samples_prev = 0\n",
    "\n",
    "for train_index, test_index in splitter.split(df_random_data['AsOfDate']):\n",
    "    X_train, X_test = df_random_data.iloc[train_index][['AsOfDate']], df_random_data.iloc[test_index][['AsOfDate']]    \n",
    "    training_dates = X_train.AsOfDate.unique()\n",
    "    testing_dates = X_test.AsOfDate.unique()\n",
    "    \n",
    "    assert X_train.AsOfDate.max() < X_test.AsOfDate.min(), \\\n",
    "        \"Training sample date %r is later than testing sample date %r\" % (X_train.AsOfDate.max(),X_test.AsOfDate.min())\n",
    "    assert len(X_train) > 0      \n",
    "    assert len(X_train) > num_training_samples_prev\n",
    "    splits = splits+1\n",
    "    num_training_samples_prev = len(X_train)\n",
    "\n",
    "assert splits == num_splits, \"Num Splits = %r\" % splits"
   ]
  },
  {
   "cell_type": "markdown",
   "metadata": {},
   "source": [
    "## Question 3 - cross_val_predict_ts\n",
    "The ChronologicalSplit class cannot be used with standard cross-validation methods because the split results do not cover all the examples in the dataset. The test split sets don't strictly form a permutation since it doesn't make sense to test on the earliest data points from the first split.\n",
    "\n",
    "Implement a custom cross_val_predict_ts() function which is able to work with ChronologicalSplit by relaxing the full permutation requirement.  You may use the block that follows it to perform a basic validation of your implementation."
   ]
  },
  {
   "cell_type": "code",
   "execution_count": 9,
   "metadata": {},
   "outputs": [],
   "source": [
    "def cross_val_predict_ts(estimator, X, y, splitter, dates):\n",
    "    \"\"\"Generate out of sample estimates from time series data\n",
    "    Parameters\n",
    "    ----------\n",
    "    estimator : estimator object implementing 'fit' and 'predict'\n",
    "        The object to use to fit the data.\n",
    "    X : array-like, of length n_samples\n",
    "        The data to fit. Can be, for example a list, or an array at least 2d.\n",
    "    y : array-like, of length n_samples\n",
    "        The target variable to try to predict in the case of\n",
    "        supervised learning.\n",
    "    dates : array-like, of length n_samples\n",
    "        The dates of the dataset, where n_samples is the number of samples\n",
    "        Assume the dates will be of type datetime.date.        \n",
    "    splitter : object\n",
    "        Implements a time series split\n",
    "    Returns\n",
    "    -------\n",
    "    target_values: ndarray, of length < n_samples\n",
    "        Subset of the y target values that were used for testing\n",
    "    predictions : ndarray, of same length as target_values\n",
    "        Predictions for the corresponding y values\n",
    "    NOTES\n",
    "    -----\n",
    "    The following implementation is *incorrect*.  It's provided for illustration purposes only        \n",
    "    \"\"\"    \n",
    "    for train_index, test_index in splitter.split(df_random_data['AsOfDate']):\n",
    "        X_train, X_test = df_random_data.iloc[train_index][['x1', 'x2']], df_random_data.iloc[test_index][['x1', 'x2']]    \n",
    "        y_train, y_test = df_random_data.iloc[train_index][['y']], df_random_data.iloc[test_index][['y']]\n",
    "        estimator.fit(X_train, y_train)\n",
    "        y_pred = estimator.predict(X_test)\n",
    "    y_test = np.squeeze(y_test.values)\n",
    "    y_pred =np.squeeze(y_pred.values)\n",
    "    \n",
    "    return (y_test, y_pred)"
   ]
  },
  {
   "cell_type": "code",
   "execution_count": 11,
   "metadata": {},
   "outputs": [
    {
     "name": "stdout",
     "output_type": "stream",
     "text": [
      "Pearson correlation and p-value: (0.8109343657126045, 4.450342198961036e-05)\n"
     ]
    },
    {
     "data": {
      "image/png": "[encoded data removed]",
      "text/plain": [
       "<Figure size 432x288 with 1 Axes>"
      ]
     },
     "metadata": {},
     "output_type": "display_data"
    }
   ],
   "source": [
    "# Test cross_val_predict using linear regression\n",
    "# This is purely for verification of that your cross_val_predict_ts() implementation executes without errors.\n",
    "# It does not check for correctness.  Do not worry about the prediction performance.\n",
    "\n",
    "import statsmodels.api as sm\n",
    "class LinearEstimator: \n",
    "    \n",
    "    def fit(self, X, y):\n",
    "        self.linear_reg = sm.OLS(y, X)\n",
    "        self.reg_res = self.linear_reg.fit()\n",
    "        \n",
    "    def predict(self, X):\n",
    "        return self.reg_res.predict(X)\n",
    "    \n",
    "from scipy.stats.stats import pearsonr\n",
    "estimator = LinearEstimator()\n",
    "ys, preds = cross_val_predict_ts(estimator, df_random_data[['x1','x2']], df_random_data['y'], splitter, dates=df_random_data['AsOfDate'])\n",
    "plt.scatter(ys, preds)                                                                                                                    \n",
    "print('Pearson correlation and p-value:',pearsonr(ys, preds))"
   ]
  },
  {
   "cell_type": "code",
   "execution_count": null,
   "metadata": {
    "collapsed": true
   },
   "outputs": [],
   "source": []
  }
 ],
 "metadata": {
  "anaconda-cloud": {},
  "kernelspec": {
   "display_name": "Python 3",
   "language": "python",
   "name": "python3"
  },
  "language_info": {
   "codemirror_mode": {
    "name": "ipython",
    "version": 3
   },
   "file_extension": ".py",
   "mimetype": "text/x-python",
   "name": "python",
   "nbconvert_exporter": "python",
   "pygments_lexer": "ipython3",
   "version": "3.6.5"
  }
 },
 "nbformat": 4,
 "nbformat_minor": 1
}
